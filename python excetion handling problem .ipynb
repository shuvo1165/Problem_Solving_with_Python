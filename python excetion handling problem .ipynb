{
 "cells": [
  {
   "cell_type": "code",
   "execution_count": 13,
   "metadata": {},
   "outputs": [
    {
     "name": "stdout",
     "output_type": "stream",
     "text": [
      "Enter a number: 12\n",
      "Enter a number: 21\n",
      "Enter a number: 23\n",
      "Enter a number: 7\n",
      "Enter a number: c\n",
      "Type error\n",
      "Enter a number: done\n",
      "Maximum is 23\n",
      "Minimum is 7\n"
     ]
    }
   ],
   "source": [
    "# Take integer numbers from user\n",
    "# Calculate the maximum and minimum number\n",
    "# Finish the program when user input finish key 'done'\n",
    "# Show error massage when user type wrong key word\n",
    "largest = None\n",
    "smallest = None\n",
    "\n",
    "while True:\n",
    "    num = input(\"Enter a number: \")\n",
    "    \n",
    "    if num != 'done':\n",
    "        try:\n",
    "            num = int(num)\n",
    "            if smallest is None:\n",
    "             smallest = num\n",
    "            elif num < smallest:\n",
    "             smallest = num\n",
    "\n",
    "            if largest is None:\n",
    "             largest = num\n",
    "            elif num > largest:\n",
    "             largest = num\n",
    "        except:\n",
    "            print('Type error')\n",
    "    else:\n",
    "        print(\"Maximum is\" , largest)\n",
    "        print(\"Minimum is\" , smallest)\n",
    "        break "
   ]
  },
  {
   "cell_type": "code",
   "execution_count": null,
   "metadata": {},
   "outputs": [],
   "source": [
    "lar = None\n",
    "sml = None\n",
    "\n",
    "in"
   ]
  }
 ],
 "metadata": {
  "kernelspec": {
   "display_name": "Python 3",
   "language": "python",
   "name": "python3"
  },
  "language_info": {
   "codemirror_mode": {
    "name": "ipython",
    "version": 3
   },
   "file_extension": ".py",
   "mimetype": "text/x-python",
   "name": "python",
   "nbconvert_exporter": "python",
   "pygments_lexer": "ipython3",
   "version": "3.8.5"
  }
 },
 "nbformat": 4,
 "nbformat_minor": 4
}
