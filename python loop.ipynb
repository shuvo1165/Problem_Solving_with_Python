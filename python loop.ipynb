{
 "cells": [
  {
   "cell_type": "markdown",
   "metadata": {},
   "source": [
    "## Basic Part"
   ]
  },
  {
   "cell_type": "code",
   "execution_count": 5,
   "metadata": {
    "scrolled": true
   },
   "outputs": [
    {
     "name": "stdout",
     "output_type": "stream",
     "text": [
      "['shuvo', 'sajib', 'asif', 'shahadat']\n",
      "shuvo\n",
      "sajib\n",
      "asif\n",
      "shahadat\n"
     ]
    }
   ],
   "source": [
    "lst = ['shuvo','sajib','asif','shahadat']\n",
    "print(lst)\n",
    "for i in lst:\n",
    "    print(i)"
   ]
  },
  {
   "cell_type": "code",
   "execution_count": 7,
   "metadata": {},
   "outputs": [
    {
     "name": "stdout",
     "output_type": "stream",
     "text": [
      "5050\n"
     ]
    }
   ],
   "source": [
    "i=1\n",
    "temp = 0\n",
    "while i<=100:\n",
    "    temp = temp + i\n",
    "    i= i+1\n",
    "print(temp)"
   ]
  },
  {
   "cell_type": "code",
   "execution_count": 10,
   "metadata": {},
   "outputs": [
    {
     "data": {
      "text/plain": [
       "[5, 6, 7, 8, 9, 10]"
      ]
     },
     "execution_count": 10,
     "metadata": {},
     "output_type": "execute_result"
    }
   ],
   "source": [
    "lst = list(range(5,11))\n",
    "lst"
   ]
  },
  {
   "cell_type": "code",
   "execution_count": 12,
   "metadata": {},
   "outputs": [
    {
     "name": "stdout",
     "output_type": "stream",
     "text": [
      "1\n",
      "2\n",
      "3\n",
      "4\n",
      "5\n",
      "6\n"
     ]
    }
   ],
   "source": [
    "for i in range(1,11):\n",
    "    if i == 7:\n",
    "        break\n",
    "    print(i)"
   ]
  },
  {
   "cell_type": "markdown",
   "metadata": {},
   "source": [
    "# Infinity Loop"
   ]
  },
  {
   "cell_type": "code",
   "execution_count": null,
   "metadata": {},
   "outputs": [],
   "source": [
    "a = 1\n",
    "while a>0:\n",
    "    a=a+1\n",
    "    print(a)"
   ]
  },
  {
   "cell_type": "markdown",
   "metadata": {},
   "source": [
    "# Problem Solve"
   ]
  },
  {
   "cell_type": "code",
   "execution_count": 21,
   "metadata": {
    "scrolled": true
   },
   "outputs": [
    {
     "name": "stdout",
     "output_type": "stream",
     "text": [
      "Enter a Number: 6\n",
      "6 x 1 = 6\n",
      "6 x 2 = 12\n",
      "6 x 3 = 18\n",
      "6 x 4 = 24\n",
      "6 x 5 = 30\n",
      "6 x 6 = 36\n",
      "6 x 7 = 42\n",
      "6 x 8 = 48\n",
      "6 x 9 = 54\n",
      "6 x 10 = 60\n"
     ]
    }
   ],
   "source": [
    "# user input a number \n",
    "# Multiply the given number with 1 to 10\n",
    "a = int(input('Enter a Number: '))\n",
    "i=1\n",
    "while i<11:\n",
    "    #temp = a*i\n",
    "    print(a ,'x', i ,'=', a*i)\n",
    "    i+=1\n",
    "    "
   ]
  },
  {
   "cell_type": "code",
   "execution_count": 32,
   "metadata": {},
   "outputs": [
    {
     "name": "stdout",
     "output_type": "stream",
     "text": [
      "[3, 6, 9, 12, 18, 21, 24, 27, 33, 36, 39, 42, 48, 51, 54, 57, 63, 66, 69, 72, 78, 81, 84, 87, 93, 96, 99]\n"
     ]
    }
   ],
   "source": [
    "# Find the number between 1 to 100 which are dived by 3 but in the sametime they are not devided by 5. Then put the desire numbers in a list.\n",
    "my_list = []\n",
    "for i in range(101):\n",
    "    if i%3 == 0 and i%5 != 0:\n",
    "        my_list.append(i)\n",
    "print(my_list)"
   ]
  },
  {
   "cell_type": "code",
   "execution_count": 1,
   "metadata": {},
   "outputs": [
    {
     "name": "stdout",
     "output_type": "stream",
     "text": [
      "[12, 22, 21, 36, 22, 45, 12, 32, 45, 21, 36, 7, 3]\n"
     ]
    }
   ],
   "source": [
    "# From a list findout the numbers which are less then 50 and put the found numbers in a list\n",
    "all_list = [12,22,55,21,36,85,475,75,22,55,88,99,66,54,45,75,85,12,32,45,61,21,36,7,3,73]\n",
    "small_list = []\n",
    "\n",
    "for i in all_list:\n",
    "    if i<50:\n",
    "        small_list.append(i)\n",
    "print(small_list)"
   ]
  },
  {
   "cell_type": "code",
   "execution_count": 5,
   "metadata": {},
   "outputs": [
    {
     "name": "stdout",
     "output_type": "stream",
     "text": [
      "[12, 22, 55, 21, 36, 85, 475, 75, 88, 99, 66, 54, 45, 32, 61, 7, 3, 73]\n"
     ]
    }
   ],
   "source": [
    "# There is a list containing duplicate values. Create a list from the given list which do not contains any duplicate values.\n",
    "not_dup_list = []\n",
    "\n",
    "for i in all_list:\n",
    "    if i not in not_dup_list:\n",
    "        not_dup_list.append(i)\n",
    "print(not_dup_list)"
   ]
  },
  {
   "cell_type": "code",
   "execution_count": 1,
   "metadata": {},
   "outputs": [
    {
     "name": "stdout",
     "output_type": "stream",
     "text": [
      "Enter the number:6\n",
      "******\n",
      "******\n",
      "******\n",
      "******\n",
      "******\n",
      "******\n"
     ]
    }
   ],
   "source": [
    "# Take a input value from user and create squire shape design with *. \n",
    "# The number of * in column and row taken as user input. \n",
    "temp = n = int(input('Enter the number:'))\n",
    "while n>0:\n",
    "    count = temp\n",
    "    while count>0:\n",
    "        print('*', end='')\n",
    "        count-=1\n",
    "    print()\n",
    "    n-=1"
   ]
  },
  {
   "cell_type": "code",
   "execution_count": null,
   "metadata": {},
   "outputs": [],
   "source": [
    "rev = ''\n",
    "type(rev)\n",
    "#word = input('input')\n",
    "#l =(len(word))\n",
    "#print(l)\n",
    "#while l>0:\n",
    " #   rev+word[l]\n",
    "  #l-=1\n",
    "#print(rev)\n",
    "    "
   ]
  },
  {
   "cell_type": "code",
   "execution_count": 17,
   "metadata": {},
   "outputs": [
    {
     "name": "stdout",
     "output_type": "stream",
     "text": [
      "Madam\n",
      "Pallindrom\n"
     ]
    }
   ],
   "source": [
    "# A word takne from user and check it pallindrom or not\n",
    "word = input()\n",
    "word = word.casefold()\n",
    "reverse = word[::-1]\n",
    "\n",
    "if word == reverse:\n",
    "    print('Pallindrom')\n",
    "else:\n",
    "    print('Not pallindrom')"
   ]
  },
  {
   "cell_type": "code",
   "execution_count": 25,
   "metadata": {},
   "outputs": [
    {
     "name": "stdout",
     "output_type": "stream",
     "text": [
      "54\n",
      "Found 54 in 14 cycle\n"
     ]
    }
   ],
   "source": [
    "# A number taken from user and check the number in the list or not.\n",
    "all_list = [12,22,55,21,36,85,475,75,22,55,88,99,66,54,45,75,85,12,32,45,61,21,36,7,3,73]\n",
    "n = int(input())\n",
    "count = 0\n",
    "round_count = 0\n",
    "for i in all_list:\n",
    "    round_count+=1\n",
    "    if i == n:\n",
    "        print('Found',n,'in',round_count,'cycle')\n",
    "        count+=1\n",
    "        break\n",
    "if count == 0:\n",
    "    print('Not Found')\n"
   ]
  },
  {
   "cell_type": "code",
   "execution_count": 12,
   "metadata": {},
   "outputs": [
    {
     "name": "stdout",
     "output_type": "stream",
     "text": [
      "1061\n"
     ]
    }
   ],
   "source": [
    "# Using loop findout the SUM of integer numbers within the range of 1 to 100\n",
    "sumation = 0\n",
    "\n",
    "for i in range(1,101):\n",
    "    count = 0\n",
    "    for j in range(2,i):\n",
    "        if i%j==0:\n",
    "            count+=1\n",
    "    if count==0:\n",
    "        sumation+=i\n",
    "print(sumation)"
   ]
  },
  {
   "cell_type": "code",
   "execution_count": 18,
   "metadata": {},
   "outputs": [
    {
     "name": "stdout",
     "output_type": "stream",
     "text": [
      "6\n",
      "*\n",
      "**\n",
      "***\n",
      "****\n",
      "*****\n",
      "******\n"
     ]
    }
   ],
   "source": [
    "# Using loop draw a triangle shape structer. The height of the vertix of the triangle will given by the user.\n",
    "n = int(input())\n",
    "\n",
    "for i in range(1,n+1):\n",
    "    for j in range(1,i+1):\n",
    "        print('*',end='')\n",
    "    print()"
   ]
  },
  {
   "cell_type": "markdown",
   "metadata": {},
   "source": [
    "## Comprehension"
   ]
  },
  {
   "cell_type": "code",
   "execution_count": 5,
   "metadata": {},
   "outputs": [
    {
     "data": {
      "text/plain": [
       "[4, 16, 36, 64, 100, 144, 196, 256, 324, 400]"
      ]
     },
     "execution_count": 5,
     "metadata": {},
     "output_type": "execute_result"
    }
   ],
   "source": [
    "# List Comprehension \n",
    "a_list = [i**2 for i in range(1,21) if i%2==0]\n",
    "a_list"
   ]
  },
  {
   "cell_type": "code",
   "execution_count": 8,
   "metadata": {},
   "outputs": [
    {
     "data": {
      "text/plain": [
       "{'ashif', 'babul', 'kabul', 'rafiqe'}"
      ]
     },
     "execution_count": 8,
     "metadata": {},
     "output_type": "execute_result"
    }
   ],
   "source": [
    "# Set comprrehension \n",
    "b_list = ['abul','babul','rafiqe','kabul','titu','ashif']\n",
    "b_set = {i for i in b_list if len(i)>4}\n",
    "b_set"
   ]
  },
  {
   "cell_type": "code",
   "execution_count": 9,
   "metadata": {},
   "outputs": [
    {
     "data": {
      "text/plain": [
       "{'Name': 'Abul', 'Dept': 'CSE', 'CGP': '3.15', 'Phone': '01956887457'}"
      ]
     },
     "execution_count": 9,
     "metadata": {},
     "output_type": "execute_result"
    }
   ],
   "source": [
    "# Dictonary comprehension\n",
    "h_list = ['Name','Dept','CGP','Phone']\n",
    "d_list = ['Abul','CSE','3.15','01956887457']\n",
    "\n",
    "a_dic = {i:j for i,j in zip(h_list,d_list)}\n",
    "a_dic"
   ]
  }
 ],
 "metadata": {
  "kernelspec": {
   "display_name": "Python 3",
   "language": "python",
   "name": "python3"
  },
  "language_info": {
   "codemirror_mode": {
    "name": "ipython",
    "version": 3
   },
   "file_extension": ".py",
   "mimetype": "text/x-python",
   "name": "python",
   "nbconvert_exporter": "python",
   "pygments_lexer": "ipython3",
   "version": "3.8.5"
  }
 },
 "nbformat": 4,
 "nbformat_minor": 2
}
